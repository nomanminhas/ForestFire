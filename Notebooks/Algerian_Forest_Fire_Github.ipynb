{
  "cells": [
    {
      "cell_type": "code",
      "execution_count": 1,
      "metadata": {
        "id": "VhWHZnCOfUTb"
      },
      "outputs": [],
      "source": [
        "import pandas as pd\n",
        "import numpy as np\n",
        "import matplotlib.pyplot as plt\n",
        "import seaborn as sns\n",
        "import warnings\n",
        "warnings.filterwarnings('ignore')\n",
        "from sklearn.model_selection import train_test_split, GridSearchCV, RandomizedSearchCV, KFold, cross_val_score\n",
        "from sklearn.tree import DecisionTreeClassifier\n",
        "from sklearn import tree\n",
        "from sklearn.preprocessing import StandardScaler, LabelEncoder\n",
        "from sklearn.metrics import mean_absolute_error, mean_squared_error, r2_score, confusion_matrix, accuracy_score, precision_score, recall_score, f1_score, classification_report\n",
        "from sklearn.preprocessing import PolynomialFeatures\n",
        "from sklearn.linear_model import LinearRegression, Ridge, Lasso, ElasticNet, LogisticRegression\n",
        "from imblearn.over_sampling import SMOTE"
      ]
    },
    {
      "cell_type": "code",
      "execution_count": 27,
      "metadata": {
        "id": "D93UpIhvfdNM"
      },
      "outputs": [],
      "source": [
        "df = pd.read_csv('E:\\CCBST\\Projects\\AlgerianFireForest\\Dataset\\Algerian_forest_fires.csv')"
      ]
    },
    {
      "cell_type": "code",
      "execution_count": 28,
      "metadata": {
        "id": "5Qpp7L3chuFG"
      },
      "outputs": [],
      "source": [
        "# Fix Classes column by removing extra spaces from values\n",
        "\n",
        "df['Classes'] = df['Classes'].apply(lambda x: x.strip())"
      ]
    },
    {
      "cell_type": "code",
      "execution_count": 29,
      "metadata": {
        "colab": {
          "base_uri": "https://localhost:8080/"
        },
        "id": "nmmDczhTOQFS",
        "outputId": "c4e5fd1c-22ee-40e6-9d03-880ecc57ba3e"
      },
      "outputs": [
        {
          "data": {
            "text/plain": [
              "0      6\n",
              "1      6\n",
              "2      6\n",
              "3      6\n",
              "4      6\n",
              "      ..\n",
              "238    9\n",
              "239    9\n",
              "240    9\n",
              "241    9\n",
              "242    9\n",
              "Name: month, Length: 243, dtype: object"
            ]
          },
          "execution_count": 29,
          "metadata": {},
          "output_type": "execute_result"
        }
      ],
      "source": [
        "# Convert Datatype of month column to Object type\n",
        "\n",
        "df['month'].astype(str)"
      ]
    },
    {
      "cell_type": "code",
      "execution_count": 30,
      "metadata": {
        "id": "59xnoKQ2NVD4"
      },
      "outputs": [],
      "source": [
        "# Replace Numerical values of month Column to String values\n",
        "\n",
        "df['month'] = df['month'].replace({6: 'June', 7: 'July', 8: 'August', 9: 'September'})"
      ]
    },
    {
      "cell_type": "code",
      "execution_count": 31,
      "metadata": {},
      "outputs": [
        {
          "data": {
            "text/plain": [
              "Index(['day', 'month', 'year', 'Temperature', 'RH', 'Ws', 'Rain', 'FFMC',\n",
              "       'DMC', 'DC', 'ISI', 'BUI', 'FWI', 'Classes', 'Region'],\n",
              "      dtype='object')"
            ]
          },
          "execution_count": 31,
          "metadata": {},
          "output_type": "execute_result"
        }
      ],
      "source": [
        "df.columns"
      ]
    },
    {
      "cell_type": "code",
      "execution_count": 32,
      "metadata": {
        "id": "RiSFjB2kht7c"
      },
      "outputs": [],
      "source": [
        "# Drop unnecessary columns\n",
        "\n",
        "df.drop(df[['day', 'year', 'DC', 'BUI']], axis = 1, inplace=True)"
      ]
    },
    {
      "cell_type": "code",
      "execution_count": 33,
      "metadata": {
        "id": "GM1Ra1pRycAj"
      },
      "outputs": [],
      "source": [
        "# Rename specific columns for better understanding\n",
        "\n",
        "df.rename(columns={\n",
        "    'month': 'Months',\n",
        "    'RH': 'Relative_Humidity',\n",
        "    'Ws': 'Wind_speed',\n",
        "    'FFMC': 'Fine_Fuel_Moisture_Code',\n",
        "    'DMC': 'Duff_Moisture_Code',\n",
        "    'ISI': 'Initial_Spread_IDX',\n",
        "    'FWI': 'Fire_Weather_IDX',\n",
        "    # add other column renames as needed\n",
        "}, inplace=True)"
      ]
    },
    {
      "cell_type": "code",
      "execution_count": 34,
      "metadata": {
        "colab": {
          "base_uri": "https://localhost:8080/"
        },
        "id": "uCmWiaYH4MIp",
        "outputId": "0b1af3c9-b7bb-420b-c54e-d83fc6987202"
      },
      "outputs": [
        {
          "data": {
            "text/plain": [
              "Index(['Months', 'Temperature', 'Relative_Humidity', 'Wind_speed', 'Rain',\n",
              "       'Fine_Fuel_Moisture_Code', 'Duff_Moisture_Code', 'Initial_Spread_IDX',\n",
              "       'Fire_Weather_IDX', 'Classes', 'Region'],\n",
              "      dtype='object')"
            ]
          },
          "execution_count": 34,
          "metadata": {},
          "output_type": "execute_result"
        }
      ],
      "source": [
        "# Check new Columns Names\n",
        "\n",
        "df.columns"
      ]
    },
    {
      "cell_type": "markdown",
      "metadata": {
        "id": "r4-xmn9CcqoF"
      },
      "source": [
        "**Label Encoding**"
      ]
    },
    {
      "cell_type": "code",
      "execution_count": 35,
      "metadata": {
        "id": "s8hIUolIdjkG"
      },
      "outputs": [],
      "source": [
        "encoder = LabelEncoder()\n",
        "df['Classes'] = encoder.fit_transform(df['Classes'])"
      ]
    },
    {
      "cell_type": "code",
      "execution_count": 36,
      "metadata": {
        "id": "3S2YRcJL7Lin"
      },
      "outputs": [],
      "source": [
        "# Split into input & target variables\n",
        "\n",
        "X = df.drop('Fire_Weather_IDX', axis=1)\n",
        "y = df['Fire_Weather_IDX']"
      ]
    },
    {
      "cell_type": "code",
      "execution_count": 37,
      "metadata": {
        "id": "zs1lQ6Eb7LfD"
      },
      "outputs": [],
      "source": [
        "# Split Numerical & Category Features\n",
        "\n",
        "num_col = X.drop(['Classes', 'Region', 'Months'], axis=1)\n",
        "cat_col = X[['Classes', 'Region']]"
      ]
    },
    {
      "cell_type": "code",
      "execution_count": 38,
      "metadata": {
        "id": "cFp-r_Q7eG0L"
      },
      "outputs": [],
      "source": [
        "# Scalar Standardization\n",
        "\n",
        "sc = StandardScaler()\n",
        "df_sc = sc.fit_transform(num_col)\n",
        "df_sc_1 = pd.DataFrame(df_sc, columns = num_col.columns)"
      ]
    },
    {
      "cell_type": "code",
      "execution_count": 39,
      "metadata": {
        "colab": {
          "base_uri": "https://localhost:8080/",
          "height": 424
        },
        "id": "w2Wh_x17e-VF",
        "outputId": "2e477b85-4658-492b-9af5-dc19c738c93c"
      },
      "outputs": [
        {
          "data": {
            "text/html": [
              "<div>\n",
              "<style scoped>\n",
              "    .dataframe tbody tr th:only-of-type {\n",
              "        vertical-align: middle;\n",
              "    }\n",
              "\n",
              "    .dataframe tbody tr th {\n",
              "        vertical-align: top;\n",
              "    }\n",
              "\n",
              "    .dataframe thead th {\n",
              "        text-align: right;\n",
              "    }\n",
              "</style>\n",
              "<table border=\"1\" class=\"dataframe\">\n",
              "  <thead>\n",
              "    <tr style=\"text-align: right;\">\n",
              "      <th></th>\n",
              "      <th>Temperature</th>\n",
              "      <th>Relative_Humidity</th>\n",
              "      <th>Wind_speed</th>\n",
              "      <th>Rain</th>\n",
              "      <th>Fine_Fuel_Moisture_Code</th>\n",
              "      <th>Duff_Moisture_Code</th>\n",
              "      <th>Initial_Spread_IDX</th>\n",
              "      <th>Classes</th>\n",
              "      <th>Region</th>\n",
              "    </tr>\n",
              "  </thead>\n",
              "  <tbody>\n",
              "    <tr>\n",
              "      <th>0</th>\n",
              "      <td>-0.870655</td>\n",
              "      <td>-0.340673</td>\n",
              "      <td>0.893277</td>\n",
              "      <td>-0.381657</td>\n",
              "      <td>-0.847927</td>\n",
              "      <td>-0.912120</td>\n",
              "      <td>-0.830356</td>\n",
              "      <td>1</td>\n",
              "      <td>0</td>\n",
              "    </tr>\n",
              "    <tr>\n",
              "      <th>1</th>\n",
              "      <td>-0.870655</td>\n",
              "      <td>-0.070359</td>\n",
              "      <td>-0.888877</td>\n",
              "      <td>0.268642</td>\n",
              "      <td>-0.938709</td>\n",
              "      <td>-0.855520</td>\n",
              "      <td>-0.902720</td>\n",
              "      <td>1</td>\n",
              "      <td>0</td>\n",
              "    </tr>\n",
              "    <tr>\n",
              "      <th>2</th>\n",
              "      <td>-1.699254</td>\n",
              "      <td>1.348788</td>\n",
              "      <td>2.319000</td>\n",
              "      <td>6.171355</td>\n",
              "      <td>-2.146802</td>\n",
              "      <td>-0.984891</td>\n",
              "      <td>-1.071571</td>\n",
              "      <td>1</td>\n",
              "      <td>0</td>\n",
              "    </tr>\n",
              "    <tr>\n",
              "      <th>3</th>\n",
              "      <td>-1.975454</td>\n",
              "      <td>1.821837</td>\n",
              "      <td>-0.888877</td>\n",
              "      <td>0.868918</td>\n",
              "      <td>-3.438694</td>\n",
              "      <td>-1.081920</td>\n",
              "      <td>-1.143935</td>\n",
              "      <td>1</td>\n",
              "      <td>0</td>\n",
              "    </tr>\n",
              "    <tr>\n",
              "      <th>4</th>\n",
              "      <td>-1.423054</td>\n",
              "      <td>1.010896</td>\n",
              "      <td>0.180416</td>\n",
              "      <td>-0.381657</td>\n",
              "      <td>-0.910776</td>\n",
              "      <td>-0.944463</td>\n",
              "      <td>-0.854477</td>\n",
              "      <td>1</td>\n",
              "      <td>0</td>\n",
              "    </tr>\n",
              "    <tr>\n",
              "      <th>...</th>\n",
              "      <td>...</td>\n",
              "      <td>...</td>\n",
              "      <td>...</td>\n",
              "      <td>...</td>\n",
              "      <td>...</td>\n",
              "      <td>...</td>\n",
              "      <td>...</td>\n",
              "      <td>...</td>\n",
              "      <td>...</td>\n",
              "    </tr>\n",
              "    <tr>\n",
              "      <th>238</th>\n",
              "      <td>-0.594455</td>\n",
              "      <td>0.199954</td>\n",
              "      <td>-0.532446</td>\n",
              "      <td>-0.381657</td>\n",
              "      <td>0.527763</td>\n",
              "      <td>0.106678</td>\n",
              "      <td>-0.058467</td>\n",
              "      <td>0</td>\n",
              "      <td>1</td>\n",
              "    </tr>\n",
              "    <tr>\n",
              "      <th>239</th>\n",
              "      <td>-1.146855</td>\n",
              "      <td>1.686680</td>\n",
              "      <td>-0.176015</td>\n",
              "      <td>1.819355</td>\n",
              "      <td>-2.565794</td>\n",
              "      <td>-0.661463</td>\n",
              "      <td>-1.119814</td>\n",
              "      <td>1</td>\n",
              "      <td>1</td>\n",
              "    </tr>\n",
              "    <tr>\n",
              "      <th>240</th>\n",
              "      <td>-1.423054</td>\n",
              "      <td>1.686680</td>\n",
              "      <td>4.814014</td>\n",
              "      <td>-0.131542</td>\n",
              "      <td>-2.230600</td>\n",
              "      <td>-0.904034</td>\n",
              "      <td>-1.047449</td>\n",
              "      <td>1</td>\n",
              "      <td>1</td>\n",
              "    </tr>\n",
              "    <tr>\n",
              "      <th>241</th>\n",
              "      <td>-2.251654</td>\n",
              "      <td>-0.543409</td>\n",
              "      <td>0.893277</td>\n",
              "      <td>-0.331634</td>\n",
              "      <td>0.129721</td>\n",
              "      <td>-0.839349</td>\n",
              "      <td>-0.733870</td>\n",
              "      <td>1</td>\n",
              "      <td>1</td>\n",
              "    </tr>\n",
              "    <tr>\n",
              "      <th>242</th>\n",
              "      <td>-2.251654</td>\n",
              "      <td>0.132376</td>\n",
              "      <td>-0.176015</td>\n",
              "      <td>-0.281611</td>\n",
              "      <td>-0.736196</td>\n",
              "      <td>-0.879777</td>\n",
              "      <td>-0.854477</td>\n",
              "      <td>1</td>\n",
              "      <td>1</td>\n",
              "    </tr>\n",
              "  </tbody>\n",
              "</table>\n",
              "<p>243 rows × 9 columns</p>\n",
              "</div>"
            ],
            "text/plain": [
              "     Temperature  Relative_Humidity  Wind_speed      Rain  \\\n",
              "0      -0.870655          -0.340673    0.893277 -0.381657   \n",
              "1      -0.870655          -0.070359   -0.888877  0.268642   \n",
              "2      -1.699254           1.348788    2.319000  6.171355   \n",
              "3      -1.975454           1.821837   -0.888877  0.868918   \n",
              "4      -1.423054           1.010896    0.180416 -0.381657   \n",
              "..           ...                ...         ...       ...   \n",
              "238    -0.594455           0.199954   -0.532446 -0.381657   \n",
              "239    -1.146855           1.686680   -0.176015  1.819355   \n",
              "240    -1.423054           1.686680    4.814014 -0.131542   \n",
              "241    -2.251654          -0.543409    0.893277 -0.331634   \n",
              "242    -2.251654           0.132376   -0.176015 -0.281611   \n",
              "\n",
              "     Fine_Fuel_Moisture_Code  Duff_Moisture_Code  Initial_Spread_IDX  Classes  \\\n",
              "0                  -0.847927           -0.912120           -0.830356        1   \n",
              "1                  -0.938709           -0.855520           -0.902720        1   \n",
              "2                  -2.146802           -0.984891           -1.071571        1   \n",
              "3                  -3.438694           -1.081920           -1.143935        1   \n",
              "4                  -0.910776           -0.944463           -0.854477        1   \n",
              "..                       ...                 ...                 ...      ...   \n",
              "238                 0.527763            0.106678           -0.058467        0   \n",
              "239                -2.565794           -0.661463           -1.119814        1   \n",
              "240                -2.230600           -0.904034           -1.047449        1   \n",
              "241                 0.129721           -0.839349           -0.733870        1   \n",
              "242                -0.736196           -0.879777           -0.854477        1   \n",
              "\n",
              "     Region  \n",
              "0         0  \n",
              "1         0  \n",
              "2         0  \n",
              "3         0  \n",
              "4         0  \n",
              "..      ...  \n",
              "238       1  \n",
              "239       1  \n",
              "240       1  \n",
              "241       1  \n",
              "242       1  \n",
              "\n",
              "[243 rows x 9 columns]"
            ]
          },
          "execution_count": 39,
          "metadata": {},
          "output_type": "execute_result"
        }
      ],
      "source": [
        "# Concatenate Scaled df & category features\n",
        "\n",
        "final_df = pd.concat([df_sc_1, cat_col], axis = 1)\n",
        "final_df"
      ]
    },
    {
      "cell_type": "code",
      "execution_count": 40,
      "metadata": {
        "id": "lLtT5SiCfRoP"
      },
      "outputs": [],
      "source": [
        "X_train, X_test, y_train, y_test = train_test_split(final_df, y, test_size = 0.25, random_state=42)"
      ]
    },
    {
      "cell_type": "markdown",
      "metadata": {
        "id": "wQUZN2j4fOdN"
      },
      "source": [
        "## **1. Linear Regression**"
      ]
    },
    {
      "cell_type": "code",
      "execution_count": 41,
      "metadata": {
        "colab": {
          "base_uri": "https://localhost:8080/",
          "height": 75
        },
        "id": "ljBa4pC6fPet",
        "outputId": "46fb3b8a-0e35-4850-a03a-bbc26c8204af"
      },
      "outputs": [
        {
          "data": {
            "text/html": [
              "<style>#sk-container-id-2 {color: black;background-color: white;}#sk-container-id-2 pre{padding: 0;}#sk-container-id-2 div.sk-toggleable {background-color: white;}#sk-container-id-2 label.sk-toggleable__label {cursor: pointer;display: block;width: 100%;margin-bottom: 0;padding: 0.3em;box-sizing: border-box;text-align: center;}#sk-container-id-2 label.sk-toggleable__label-arrow:before {content: \"▸\";float: left;margin-right: 0.25em;color: #696969;}#sk-container-id-2 label.sk-toggleable__label-arrow:hover:before {color: black;}#sk-container-id-2 div.sk-estimator:hover label.sk-toggleable__label-arrow:before {color: black;}#sk-container-id-2 div.sk-toggleable__content {max-height: 0;max-width: 0;overflow: hidden;text-align: left;background-color: #f0f8ff;}#sk-container-id-2 div.sk-toggleable__content pre {margin: 0.2em;color: black;border-radius: 0.25em;background-color: #f0f8ff;}#sk-container-id-2 input.sk-toggleable__control:checked~div.sk-toggleable__content {max-height: 200px;max-width: 100%;overflow: auto;}#sk-container-id-2 input.sk-toggleable__control:checked~label.sk-toggleable__label-arrow:before {content: \"▾\";}#sk-container-id-2 div.sk-estimator input.sk-toggleable__control:checked~label.sk-toggleable__label {background-color: #d4ebff;}#sk-container-id-2 div.sk-label input.sk-toggleable__control:checked~label.sk-toggleable__label {background-color: #d4ebff;}#sk-container-id-2 input.sk-hidden--visually {border: 0;clip: rect(1px 1px 1px 1px);clip: rect(1px, 1px, 1px, 1px);height: 1px;margin: -1px;overflow: hidden;padding: 0;position: absolute;width: 1px;}#sk-container-id-2 div.sk-estimator {font-family: monospace;background-color: #f0f8ff;border: 1px dotted black;border-radius: 0.25em;box-sizing: border-box;margin-bottom: 0.5em;}#sk-container-id-2 div.sk-estimator:hover {background-color: #d4ebff;}#sk-container-id-2 div.sk-parallel-item::after {content: \"\";width: 100%;border-bottom: 1px solid gray;flex-grow: 1;}#sk-container-id-2 div.sk-label:hover label.sk-toggleable__label {background-color: #d4ebff;}#sk-container-id-2 div.sk-serial::before {content: \"\";position: absolute;border-left: 1px solid gray;box-sizing: border-box;top: 0;bottom: 0;left: 50%;z-index: 0;}#sk-container-id-2 div.sk-serial {display: flex;flex-direction: column;align-items: center;background-color: white;padding-right: 0.2em;padding-left: 0.2em;position: relative;}#sk-container-id-2 div.sk-item {position: relative;z-index: 1;}#sk-container-id-2 div.sk-parallel {display: flex;align-items: stretch;justify-content: center;background-color: white;position: relative;}#sk-container-id-2 div.sk-item::before, #sk-container-id-2 div.sk-parallel-item::before {content: \"\";position: absolute;border-left: 1px solid gray;box-sizing: border-box;top: 0;bottom: 0;left: 50%;z-index: -1;}#sk-container-id-2 div.sk-parallel-item {display: flex;flex-direction: column;z-index: 1;position: relative;background-color: white;}#sk-container-id-2 div.sk-parallel-item:first-child::after {align-self: flex-end;width: 50%;}#sk-container-id-2 div.sk-parallel-item:last-child::after {align-self: flex-start;width: 50%;}#sk-container-id-2 div.sk-parallel-item:only-child::after {width: 0;}#sk-container-id-2 div.sk-dashed-wrapped {border: 1px dashed gray;margin: 0 0.4em 0.5em 0.4em;box-sizing: border-box;padding-bottom: 0.4em;background-color: white;}#sk-container-id-2 div.sk-label label {font-family: monospace;font-weight: bold;display: inline-block;line-height: 1.2em;}#sk-container-id-2 div.sk-label-container {text-align: center;}#sk-container-id-2 div.sk-container {/* jupyter's `normalize.less` sets `[hidden] { display: none; }` but bootstrap.min.css set `[hidden] { display: none !important; }` so we also need the `!important` here to be able to override the default hidden behavior on the sphinx rendered scikit-learn.org. See: https://github.com/scikit-learn/scikit-learn/issues/21755 */display: inline-block !important;position: relative;}#sk-container-id-2 div.sk-text-repr-fallback {display: none;}</style><div id=\"sk-container-id-2\" class=\"sk-top-container\"><div class=\"sk-text-repr-fallback\"><pre>LinearRegression()</pre><b>In a Jupyter environment, please rerun this cell to show the HTML representation or trust the notebook. <br />On GitHub, the HTML representation is unable to render, please try loading this page with nbviewer.org.</b></div><div class=\"sk-container\" hidden><div class=\"sk-item\"><div class=\"sk-estimator sk-toggleable\"><input class=\"sk-toggleable__control sk-hidden--visually\" id=\"sk-estimator-id-2\" type=\"checkbox\" checked><label for=\"sk-estimator-id-2\" class=\"sk-toggleable__label sk-toggleable__label-arrow\">LinearRegression</label><div class=\"sk-toggleable__content\"><pre>LinearRegression()</pre></div></div></div></div></div>"
            ],
            "text/plain": [
              "LinearRegression()"
            ]
          },
          "execution_count": 41,
          "metadata": {},
          "output_type": "execute_result"
        }
      ],
      "source": [
        "lr = LinearRegression()\n",
        "lr.fit(X_train, y_train)"
      ]
    },
    {
      "cell_type": "code",
      "execution_count": 42,
      "metadata": {
        "id": "-uJmc3refYtn"
      },
      "outputs": [],
      "source": [
        "y_pred_test = lr.predict(X_test)\n",
        "y_pred_train = lr.predict(X_train)"
      ]
    },
    {
      "cell_type": "code",
      "execution_count": 43,
      "metadata": {
        "colab": {
          "base_uri": "https://localhost:8080/"
        },
        "id": "mL4iapyYsAR6",
        "outputId": "4d7b46a3-a8a2-4ffd-f757-c70b0a30024e"
      },
      "outputs": [
        {
          "data": {
            "text/plain": [
              "(array([-0.03560044, -0.17236446,  0.0074911 , -0.03842353, -0.82331222,\n",
              "         3.62549623,  4.64564592, -0.81242559, -0.78524598]),\n",
              " 7.798603449809412)"
            ]
          },
          "execution_count": 43,
          "metadata": {},
          "output_type": "execute_result"
        }
      ],
      "source": [
        "lr.coef_, lr.intercept_"
      ]
    },
    {
      "cell_type": "markdown",
      "metadata": {
        "id": "x-W9EOKTtQLa"
      },
      "source": [
        "## ***Ridge Model***"
      ]
    },
    {
      "cell_type": "code",
      "execution_count": null,
      "metadata": {
        "colab": {
          "base_uri": "https://localhost:8080/"
        },
        "id": "Xq2LSUAmgdF2",
        "outputId": "9be6d406-3c74-41b7-e7fa-ac3c68a6a3f9"
      },
      "outputs": [],
      "source": [
        "%%time\n",
        "rd = Ridge()\n",
        "rd.fit(X_train, y_train)\n",
        "y_pred_test_rd = rd.predict(X_test)\n",
        "y_pred_train_rd = rd.predict(X_train)\n",
        "\n",
        "print(\"Ridge Metrics on Test Data:\\n\")\n",
        "print('R2 Score: ', r2_score(y_test, y_pred_test_rd))\n",
        "print('Mean Squared Error: ', mean_squared_error(y_test, y_pred_test_rd))\n",
        "print('Root Mean Squared Error: ', np.sqrt(mean_squared_error(y_test, y_pred_test_rd)))\n",
        "print('Mean Absolute Error: ', mean_absolute_error(y_test, y_pred_test_rd))\n",
        "\n",
        "# evaluate the models using metrics on train data\n",
        "print(\"\\nRidge Metrics on Train Data:\\n\")\n",
        "print('R2 Score_train: ', r2_score(y_train, y_pred_train_rd))\n",
        "print('Mean Squared Error_train: ', mean_squared_error(y_train, y_pred_train_rd))\n",
        "print('Root Mean Squared Error_train: ', np.sqrt(mean_squared_error(y_train, y_pred_train_rd)))\n",
        "print('Mean Absolute Error_train: ', mean_absolute_error(y_train, y_pred_train_rd))\n",
        "print(\"\\n Coefficients are as:\\n\")\n",
        "\n",
        "for i, col in enumerate(X_train.columns):\n",
        "    print('The coefficient for {} is {}'.format(col, rd.coef_[i]))"
      ]
    },
    {
      "cell_type": "markdown",
      "metadata": {
        "id": "o6cn0N9JtLf3"
      },
      "source": [
        "## ***Lasso Model***"
      ]
    },
    {
      "cell_type": "code",
      "execution_count": null,
      "metadata": {
        "colab": {
          "base_uri": "https://localhost:8080/"
        },
        "id": "pjyGfTwFtLLp",
        "outputId": "6bafeb57-7d57-4880-a842-d3cf6fbbc4fe"
      },
      "outputs": [],
      "source": [
        "%%time\n",
        "ls=Lasso(alpha=1)\n",
        "ls.fit(X_train, y_train)\n",
        "y_pred_test_ls = ls.predict(X_test)\n",
        "y_pred_train_ls = ls.predict(X_train)\n",
        "\n",
        "# evaluate the models using metrics on test data\n",
        "print(\"Lasso Metrics on Test Data:\\n\")\n",
        "print('R2 Score: ', r2_score(y_test, y_pred_test_ls))\n",
        "print('Mean Squared Error: ', mean_squared_error(y_test, y_pred_test_ls))\n",
        "print('Root Mean Squared Error: ', np.sqrt(mean_squared_error(y_test, y_pred_test_ls)))\n",
        "print('Mean Absolute Error: ', mean_absolute_error(y_test, y_pred_test_ls))\n",
        "\n",
        "# evaluate the models using metrics on train data\n",
        "print(\"\\nLasso Metrics on Train Data:\\n\")\n",
        "print('R2 Score_train: ', r2_score(y_train, y_pred_train_ls))\n",
        "print('Mean Squared Error_train: ', mean_squared_error(y_train, y_pred_train_ls))\n",
        "print('Root Mean Squared Error_train: ', np.sqrt(mean_squared_error(y_train, y_pred_train_ls)))\n",
        "print('Mean Absolute Error_train: ', mean_absolute_error(y_train, y_pred_train_ls))\n",
        "print(\"\\n Coefficients are as:\\n\")\n",
        "\n",
        "for i, col in enumerate(X_train.columns):\n",
        "    print('The coefficient for {} is {}'.format(col, ls.coef_[i]))"
      ]
    },
    {
      "cell_type": "markdown",
      "metadata": {
        "id": "lv7h2Kx26PmD"
      },
      "source": [
        "## ***ElasticNet Model***"
      ]
    },
    {
      "cell_type": "code",
      "execution_count": null,
      "metadata": {
        "colab": {
          "base_uri": "https://localhost:8080/"
        },
        "id": "Q5qXVrYG6RWk",
        "outputId": "0a15ba74-bf2c-4569-827b-01348f1ec1f7"
      },
      "outputs": [],
      "source": [
        "en=ElasticNet(alpha=1)\n",
        "en.fit(X_train, y_train)\n",
        "y_pred_test_en = en.predict(X_test)\n",
        "y_pred_train_en = en.predict(X_train)\n",
        "\n",
        "# evaluate the models using metrics on test data\n",
        "print(\"ElassticNet Metrics on Test Data:\\n\")\n",
        "print('R2 Score: ', r2_score(y_test, y_pred_test_en))\n",
        "print('Mean Squared Error: ', mean_squared_error(y_test, y_pred_test_en))\n",
        "print('Root Mean Squared Error: ', np.sqrt(mean_squared_error(y_test, y_pred_test_en)))\n",
        "print('Mean Absolute Error: ', mean_absolute_error(y_test, y_pred_test_en))\n",
        "\n",
        "# evaluate the models using metrics on train data\n",
        "print(\"\\nElassticNet Metrics on Train Data:\\n\")\n",
        "print('R2 Score_train: ', r2_score(y_train, y_pred_train_en))\n",
        "print('Mean Squared Error_train: ', mean_squared_error(y_train, y_pred_train_en))\n",
        "print('Root Mean Squared Error_train: ', np.sqrt(mean_squared_error(y_train, y_pred_train_en)))\n",
        "print('Mean Absolute Error_train: ', mean_absolute_error(y_train, y_pred_train_en))\n",
        "print(\"\\n Coefficients are as:\\n\")\n",
        "\n",
        "for i, col in enumerate(X_train.columns):\n",
        "    print('The coefficient for {} is {}'.format(col, en.coef_[i]))"
      ]
    },
    {
      "cell_type": "code",
      "execution_count": 47,
      "metadata": {
        "id": "sq8wlQf3bGlL"
      },
      "outputs": [],
      "source": [
        "import pickle"
      ]
    },
    {
      "cell_type": "code",
      "execution_count": 50,
      "metadata": {
        "id": "4EbxQJ6xZNt_"
      },
      "outputs": [],
      "source": [
        "pickle.dump(rd,open('ridge_model.pkl', 'wb' ))"
      ]
    }
  ],
  "metadata": {
    "colab": {
      "provenance": []
    },
    "kernelspec": {
      "display_name": "Python 3",
      "name": "python3"
    },
    "language_info": {
      "codemirror_mode": {
        "name": "ipython",
        "version": 3
      },
      "file_extension": ".py",
      "mimetype": "text/x-python",
      "name": "python",
      "nbconvert_exporter": "python",
      "pygments_lexer": "ipython3",
      "version": "3.11.7"
    }
  },
  "nbformat": 4,
  "nbformat_minor": 0
}
